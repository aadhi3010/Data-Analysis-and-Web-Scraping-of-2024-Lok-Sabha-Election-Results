{
  "nbformat": 4,
  "nbformat_minor": 0,
  "metadata": {
    "colab": {
      "provenance": []
    },
    "kernelspec": {
      "name": "python3",
      "display_name": "Python 3"
    },
    "language_info": {
      "name": "python"
    }
  },
  "cells": [
    {
      "cell_type": "code",
      "execution_count": null,
      "metadata": {
        "id": "Sw0uhngOelmy"
      },
      "outputs": [],
      "source": []
    },
    {
      "cell_type": "code",
      "source": [
        "import requests\n",
        "from bs4 import BeautifulSoup\n",
        "import pandas as pd\n",
        "\n",
        "base_url = \"https://results.eci.gov.in/PcResultGenJune2024/\"\n",
        "\n",
        "header = ['Party Name', 'Total Winning', 'Constituency', 'Winning Candidate', 'Total Votes', 'Margin', 'State']\n",
        "main_data = []\n",
        "\n",
        "response = requests.get(f\"{base_url}index.htm\")\n",
        "response.encoding = 'utf-8'\n",
        "soup = BeautifulSoup(response.text, 'lxml')\n",
        "\n",
        "state_list = soup.find('select')\n",
        "\n",
        "for option in state_list.find_all('option'):\n",
        "    state_code = option.get('value')\n",
        "    state_name = option.text.strip()\n",
        "\n",
        "    if state_code:\n",
        "        state_url = f\"{base_url}partywiseresult-{state_code}.htm\"\n",
        "        state_response = requests.get(state_url)\n",
        "        state_response.encoding = 'utf-8'\n",
        "        state_soup = BeautifulSoup(state_response.text, 'lxml')\n",
        "\n",
        "\n",
        "        state_table = state_soup.find(\"table\")\n",
        "\n",
        "        if state_table:\n",
        "            for row in state_table.find_all('tr'):\n",
        "                cols = [cell.text.strip() for cell in row.find_all(['td', 'th'])]\n",
        "                if len(cols) >= 2 and cols[0] not in [\"Total\", \"Party\"]:\n",
        "                    party_name, total_winning = cols[:2]\n",
        "\n",
        "\n",
        "                    for link in state_soup.find_all('a', href=True):\n",
        "                        if 'partywisewinresult' in link['href']:\n",
        "                            constituency_url = base_url + link['href']\n",
        "                            constituency_response = requests.get(constituency_url)\n",
        "                            constituency_response.encoding = 'utf-8'\n",
        "                            constituency_soup = BeautifulSoup(constituency_response.text, 'lxml')\n",
        "\n",
        "                            # Loop through each row in the constituency table\n",
        "                            for cons_row in constituency_soup.find_all('tr'):\n",
        "                                cons_cols = [cell.text.strip() for cell in cons_row.find_all(['td'])]\n",
        "                                if len(cons_cols) >= 5:\n",
        "                                    constituency, winning_candidate, total_votes, margin = cons_cols[1:5]\n",
        "                                    main_data.append([party_name, total_winning, constituency, winning_candidate, total_votes, margin, state_name])\n",
        "\n",
        "df = pd.DataFrame(main_data, columns=header)\n",
        "df.to_csv('election_data.csv', index=False)"
      ],
      "metadata": {
        "id": "3RBqWQurevkl"
      },
      "execution_count": 1,
      "outputs": []
    }
  ]
}